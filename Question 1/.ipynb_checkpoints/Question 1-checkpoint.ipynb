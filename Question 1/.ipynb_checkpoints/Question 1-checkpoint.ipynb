{
 "cells": [
  {
   "cell_type": "code",
   "execution_count": 5,
   "id": "072940e7-2ba1-4fa8-a982-218a658f9876",
   "metadata": {},
   "outputs": [
    {
     "name": "stdin",
     "output_type": "stream",
     "text": [
      "Enter the word to guess (without spaces):  qwerty\n"
     ]
    },
    {
     "name": "stdout",
     "output_type": "stream",
     "text": [
      "Let's start the game!\n",
      " +---+\n",
      " |   |\n",
      "     |\n",
      "     |\n",
      "     |\n",
      "     |\n",
      "=========\n",
      "_ _ _ _ _ _\n"
     ]
    },
    {
     "name": "stdin",
     "output_type": "stream",
     "text": [
      "Guess a letter:  a\n"
     ]
    },
    {
     "name": "stdout",
     "output_type": "stream",
     "text": [
      "Incorrect guess.\n",
      " +---+\n",
      " |   |\n",
      " O   |\n",
      "     |\n",
      "     |\n",
      "     |\n",
      "=========\n",
      "_ _ _ _ _ _\n"
     ]
    },
    {
     "name": "stdin",
     "output_type": "stream",
     "text": [
      "Guess a letter:  g\n"
     ]
    },
    {
     "name": "stdout",
     "output_type": "stream",
     "text": [
      "Incorrect guess.\n",
      " +---+\n",
      " |   |\n",
      " O   |\n",
      " |   |\n",
      "     |\n",
      "     |\n",
      "=========\n",
      "_ _ _ _ _ _\n"
     ]
    },
    {
     "name": "stdin",
     "output_type": "stream",
     "text": [
      "Guess a letter:  g\n"
     ]
    },
    {
     "name": "stdout",
     "output_type": "stream",
     "text": [
      "You already guessed that letter.\n",
      " +---+\n",
      " |   |\n",
      " O   |\n",
      " |   |\n",
      "     |\n",
      "     |\n",
      "=========\n",
      "_ _ _ _ _ _\n"
     ]
    },
    {
     "name": "stdin",
     "output_type": "stream",
     "text": [
      "Guess a letter:  h\n"
     ]
    },
    {
     "name": "stdout",
     "output_type": "stream",
     "text": [
      "Incorrect guess.\n",
      " +---+\n",
      " |   |\n",
      " O   |\n",
      "/|   |\n",
      "     |\n",
      "     |\n",
      "=========\n",
      "_ _ _ _ _ _\n"
     ]
    },
    {
     "name": "stdin",
     "output_type": "stream",
     "text": [
      "Guess a letter:  j\n"
     ]
    },
    {
     "name": "stdout",
     "output_type": "stream",
     "text": [
      "Incorrect guess.\n",
      " +---+\n",
      " |   |\n",
      " O   |\n",
      "/|\\  |\n",
      "     |\n",
      "     |\n",
      "=========\n",
      "_ _ _ _ _ _\n"
     ]
    },
    {
     "name": "stdin",
     "output_type": "stream",
     "text": [
      "Guess a letter:  k\n"
     ]
    },
    {
     "name": "stdout",
     "output_type": "stream",
     "text": [
      "Incorrect guess.\n",
      " +---+\n",
      " |   |\n",
      " O   |\n",
      "/|\\  |\n",
      "/    |\n",
      "     |\n",
      "=========\n",
      "_ _ _ _ _ _\n"
     ]
    },
    {
     "name": "stdin",
     "output_type": "stream",
     "text": [
      "Guess a letter:  y\n"
     ]
    },
    {
     "name": "stdout",
     "output_type": "stream",
     "text": [
      "Good guess!\n",
      " +---+\n",
      " |   |\n",
      " O   |\n",
      "/|\\  |\n",
      "/    |\n",
      "     |\n",
      "=========\n",
      "_ _ _ _ _ y\n"
     ]
    },
    {
     "name": "stdin",
     "output_type": "stream",
     "text": [
      "Guess a letter:  a\n"
     ]
    },
    {
     "name": "stdout",
     "output_type": "stream",
     "text": [
      "You already guessed that letter.\n",
      " +---+\n",
      " |   |\n",
      " O   |\n",
      "/|\\  |\n",
      "/    |\n",
      "     |\n",
      "=========\n",
      "_ _ _ _ _ y\n"
     ]
    },
    {
     "name": "stdin",
     "output_type": "stream",
     "text": [
      "Guess a letter:  c\n"
     ]
    },
    {
     "name": "stdout",
     "output_type": "stream",
     "text": [
      "Incorrect guess.\n",
      " +---+\n",
      " |   |\n",
      " O   |\n",
      "/|\\  |\n",
      "/ \\  |\n",
      "     |\n",
      "=========\n",
      "Game over! The word was: qwerty\n"
     ]
    }
   ],
   "source": [
    "from hangman import *\n",
    "\n",
    "# Create an instance of the Hangman game and start it\n",
    "if __name__ == \"__main__\":\n",
    "    game = Hangman()\n",
    "    game.play_game()\n"
   ]
  }
 ],
 "metadata": {
  "kernelspec": {
   "display_name": "Python 3 (ipykernel)",
   "language": "python",
   "name": "python3"
  },
  "language_info": {
   "codemirror_mode": {
    "name": "ipython",
    "version": 3
   },
   "file_extension": ".py",
   "mimetype": "text/x-python",
   "name": "python",
   "nbconvert_exporter": "python",
   "pygments_lexer": "ipython3",
   "version": "3.11.7"
  }
 },
 "nbformat": 4,
 "nbformat_minor": 5
}
